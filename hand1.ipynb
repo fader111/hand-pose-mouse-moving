{
 "cells": [
  {
   "cell_type": "code",
   "execution_count": 1,
   "metadata": {},
   "outputs": [],
   "source": [
    "#!pip install mediapipe opencv-python==4.5.5.64\n",
    "# source idea from https://www.youtube.com/watch?v=vQZ4IvB07ec&t=347s \n",
    "# source https://google.github.io/mediapipe/solutions/hands \n",
    "# полезно по оформлению https://habr.com/ru/post/485318/\n",
    "# мышь https://myrusakov.ru/python-gui-automation.html\n"
   ]
  },
  {
   "cell_type": "code",
   "execution_count": 2,
   "metadata": {},
   "outputs": [],
   "source": [
    "import mediapipe as mp\n",
    "import cv2\n",
    "import numpy as np\n",
    "import uuid\n",
    "import os\n",
    "# from time import time as time\n",
    "import time\n",
    "import math\n",
    "\n",
    "import keyboard\n",
    "\n",
    "import pyautogui\n",
    "pyautogui.size() # Size(width=3840, height=2160)\n",
    "pyautogui.PAUSE = 1\n",
    "pyautogui.FAILSAFE = True\n"
   ]
  },
  {
   "cell_type": "markdown",
   "metadata": {},
   "source": [
    "# Hands \n",
    "<img src=https://i.imgur.com/qpRACer.png />"
   ]
  },
  {
   "cell_type": "code",
   "execution_count": 3,
   "metadata": {},
   "outputs": [],
   "source": [
    "# Вспомогательные фишечки\n",
    "green = (0, 255, 0)\n",
    "red = (0, 0, 255)\n",
    "white = (255,255,255)\n",
    "# cv2.putText(image, text, org, font, fontScale, color[, \n",
    "#               thickness[, lineType[, bottomLeftOrigin]]])\n",
    "\n",
    "\n",
    "def text(image, text, pos=(10, 30), fontScale=1, color=red, thickness=2):\n",
    "    cv2.putText(image, text, pos, cv2.FONT_HERSHEY_SIMPLEX, \n",
    "        fontScale=fontScale, color=color, thickness=thickness)\n",
    "\n",
    "\n",
    "def dist_betw_points(pt1, pt2):\n",
    "    \"\"\" calc distance betw 2 points\"\"\"\n",
    "    return math.sqrt((pt2[0]-pt1[0])*(pt2[0]-pt1[0]) + \n",
    "    (pt2[1]-pt1[1])*(pt2[1]-pt1[1]) + (pt2[2]-pt1[2])*(pt2[2]-pt1[2]))\n",
    "\n",
    "\n",
    "def finger_connect_evt(pt1_end, pt1_prev, pt2_end, pt2_prev):\n",
    "    \"\"\" connect finger event calc as a ratio of 2 distances - \n",
    "        first is the distance beetween finger ends, second - is \n",
    "        between pre-end finger points\n",
    "    \"\"\" \n",
    "    # TODO!!\n",
    "    pass\n",
    "\n",
    "\n",
    "def pos_perst(hand, perst, coord): # нужно ли это??? хз\n",
    "    return hand.landmark[perst].coord\n",
    "\n",
    "def move_pt(pt, pt_step, mult=1):\n",
    "    return ((pt[0]-pt_step[0])*mult, (pt[1]-pt_step[1])*mult) \n"
   ]
  },
  {
   "cell_type": "code",
   "execution_count": 4,
   "metadata": {},
   "outputs": [],
   "source": [
    "# TODO!\n",
    "# DONE в первом приближении, возможно требует улучшений после привязки мыши. \n",
    "# при фронтальном ракурсе руки соотношение длин, по которому принимается решение для \n",
    "# передвижения курсора оказывается ниже порога. \n",
    "\n",
    "#       делать масштаб кисти для вычисления порога в зависимости от удаления от камеры.\n",
    "#       тупое измерение расстояния между кончиками пальцев часто не дает эффекта, т.к. \n",
    "#       эти кончики оказываются в разных местах в зависимости от ракурса.\n",
    "#       поэтомуесть идея оценить взимное расоложение пальцев с использованием других точек\n",
    "#       пальца.\n",
    "\n",
    "# делать привязку к мышке\n",
    "# сделать фильтр кальмана для сглаживания трека от которого будет мышка двигаться\n",
    "# делать что-то для корректной работы, если есть вторая рука в кадре\n",
    "#       например, работать с двумя руками, и брать в работу только то, \n",
    "\n",
    "# DONE разбираться как влияет z координата пока вроде без нее работает лучше чем с ней. \n",
    "# DONE установить лимит на одну руку"
   ]
  },
  {
   "cell_type": "markdown",
   "metadata": {},
   "source": [
    "# Malfunc\n",
    "<img src=\"pics/front_palm_front_malfunc.png\" />"
   ]
  },
  {
   "cell_type": "code",
   "execution_count": 7,
   "metadata": {},
   "outputs": [],
   "source": [
    "mp_drawing = mp.solutions.drawing_utils\n",
    "mp_hands = mp.solutions.hands\n",
    "\n",
    "камера = 0 # 0,1 - какая первая подключилась \n",
    "cap = cv2.VideoCapture(камера)\n",
    "while not cap.isOpened():\n",
    "    pass\n",
    "# time.sleep(15)\n",
    "ret, frame = cap.read()\n",
    "image_hight, image_width = frame.shape[:2]\n",
    "index_end = mp_hands.HandLandmark.INDEX_FINGER_TIP      # указательный конец\n",
    "# index_prev = mp_hands.HandLandmark.INDEX_FINGER_DIP   # указательный 2 точка \n",
    "index_prev = mp_hands.HandLandmark.INDEX_FINGER_PIP     # указательный 2 точка\n",
    "thumb_end = mp_hands.HandLandmark.THUMB_TIP             # большой конец\n",
    "# thumb_prev = mp_hands.HandLandmark.THUMB_IP           # большой вторая точка\n",
    "thumb_prev = mp_hands.HandLandmark.THUMB_MCP            # большой вторая точка\n",
    "\n",
    "dist_ratio_thresh = 3.2\n",
    "dist_ends, dist_prevs = 1 , 1\n",
    "dist_ratio = 1\n",
    "pt1_end = (100,100)\n",
    "pt1_step = (100,100) # предыдущая позиция курсора для отслеживания относительного перемещения\n",
    "contact = False # признак того что пальцы соединились\n",
    "\n",
    "while cap.isOpened():\n",
    "    with mp_hands.Hands(min_detection_confidence=0.8, min_tracking_confidence=0.8, max_num_hands =1) as hands:\n",
    "        t0= time.time()\n",
    "        ret, frame = cap.read()\n",
    "\n",
    "        # Detection\n",
    "        image = cv2.cvtColor(frame, cv2.COLOR_BGR2RGB)\n",
    "        image.flags.writeable = False\n",
    "        results = hands.process(image)\n",
    "        image.flags.writeable = True\n",
    "        image = cv2.cvtColor(image, cv2.COLOR_RGB2BGR)\n",
    "        # print(f\"res {results}\")\n",
    "\n",
    "        if results.multi_hand_landmarks:\n",
    "            for num, hand in enumerate(results.multi_hand_landmarks):\n",
    "                # print(f\" {mp_hands.HAND_CONNECTIONS}\")\n",
    "                mp_drawing.draw_landmarks(\n",
    "                    image, hand, mp_hands.HAND_CONNECTIONS)\n",
    "                \n",
    "                pt1_end = (hand.landmark[index_end].x, hand.landmark[index_end].y, 0)\n",
    "                pt1_prev = (hand.landmark[index_prev].x, hand.landmark[index_prev].y, 0)\n",
    "                \n",
    "                pt2_end = (hand.landmark[thumb_end].x, hand.landmark[thumb_end].y, 0)\n",
    "                pt2_prev = (hand.landmark[thumb_prev].x, hand.landmark[thumb_prev].y, 0)\n",
    "                                \n",
    "                dist_ends = dist_betw_points(pt1_end, pt2_end)\n",
    "                dist_ends = dist_ends if dist_ends !=0 else 0.01 # prevent div by zero\n",
    "                \n",
    "                dist_prevs = dist_betw_points(pt1_prev, pt2_prev)\n",
    "\n",
    "        contact = True if dist_ratio > dist_ratio_thresh else False\n",
    "\n",
    "        # вычислить соотношение дистанций соответствующих точек пальцев\n",
    "        dist_ratio = dist_prevs/dist_ends\n",
    "        # вычислить перемещение мыши \n",
    "        if contact:\n",
    "            dp = move_pt(pt1_end, pt1_step, mult=5000)# сразу умножим движ на mult\n",
    "        # переписать значение мыши предыдущего цикла\n",
    "        pt1_step = pt1_end\n",
    "        # привязать мышь к концу указательного пальца\n",
    "        pyautogui.moveRel(dp[0], dp[1], _pause=False)        \n",
    "        \n",
    "        time_spend = time.time() - t0\n",
    "        \n",
    "        color = green if contact else False\n",
    "        text(image, f'{dist_ends:.2f} {dist_prevs:.2f} {dist_ratio:.2f}', color=color)\n",
    "        text(image, f'{pt1_end[0]:.2f} {pt1_end[1]:.2f} : {dp[0]:.0f} {dp[1]:.0f} ', \n",
    "                    pos=(300, 30), color=white, thickness=1)\n",
    "        text(image, f'ts {time_spend:.3}', pos=(0, 60), color = white)\n",
    "        # assert dp[0]*100<10, dp[0]\n",
    "\n",
    "        image = cv2.resize(image, (image.shape[1]*3,image.shape[0]*3)) # optional\n",
    "        cv2.imshow('hands', image)\n",
    "        if cv2.waitKey(1) == 27:\n",
    "            break\n",
    "cap.release()\n",
    "cv2.destroyAllWindows()\n"
   ]
  },
  {
   "cell_type": "code",
   "execution_count": 16,
   "metadata": {},
   "outputs": [
    {
     "name": "stdout",
     "output_type": "stream",
     "text": [
      "\u001b[1;31mType:\u001b[0m        NoneType\n",
      "\u001b[1;31mString form:\u001b[0m None\n",
      "\u001b[1;31mDocstring:\u001b[0m   <no docstring>\n"
     ]
    }
   ],
   "source": [
    "results.multi_hand_landmarks??\n",
    "# mp_hands.HAND_CONNECTIONS??\n",
    "# mp_drawing.DrawingSpec??\n"
   ]
  },
  {
   "cell_type": "code",
   "execution_count": null,
   "metadata": {},
   "outputs": [],
   "source": [
    "# гоняем мыша\n",
    "# !pip install pyautogui"
   ]
  },
  {
   "cell_type": "code",
   "execution_count": 1,
   "metadata": {},
   "outputs": [],
   "source": [
    "import pyautogui\n",
    "pyautogui.size() # Size(width=3840, height=2160)\n",
    "pyautogui.PAUSE = 1\n",
    "pyautogui.FAILSAFE = True\n"
   ]
  },
  {
   "cell_type": "code",
   "execution_count": 19,
   "metadata": {},
   "outputs": [],
   "source": [
    "# d1 = {x:100; y:200}\n",
    "duration = 0\n",
    "for i in range(10):\n",
    "    # pyautogui.moveRel(100, 0, duration=duration)\n",
    "    pyautogui.moveRel(100, 0)\n",
    "    pyautogui.moveRel(0, 100, duration=duration)\n",
    "    pyautogui.moveRel(-100, 0, duration=duration)\n",
    "    pyautogui.moveRel(0, -100, duration=duration)"
   ]
  },
  {
   "cell_type": "code",
   "execution_count": null,
   "metadata": {},
   "outputs": [],
   "source": [
    "import keyboard, time\n",
    "\n",
    "while True:\n",
    "    if keyboard.is_pressed('ctrl'):\n",
    "        time.sleep(0.1)\n",
    "        print(f\"ctrl pressed\")\n",
    "        keyboard.release(\"ctrl\")\n",
    "        # keyboard.send(\"ctrl\")\n",
    "        # keyboard.unhook_all()\n",
    "        # break\n"
   ]
  },
  {
   "cell_type": "code",
   "execution_count": 18,
   "metadata": {},
   "outputs": [
    {
     "data": {
      "text/plain": [
       "(1, 2, 1, 2, 1, 2)"
      ]
     },
     "execution_count": 18,
     "metadata": {},
     "output_type": "execute_result"
    }
   ],
   "source": [
    "a=(1,2)\n",
    "b=(3,4)\n",
    "b[0]-a[0], b[1]-a[1]\n",
    "# b-a так нельзя\n",
    "a*b[0] # a три раза подряд\n"
   ]
  }
 ],
 "metadata": {
  "kernelspec": {
   "display_name": "Python 3.9.7 64-bit",
   "language": "python",
   "name": "python3"
  },
  "language_info": {
   "codemirror_mode": {
    "name": "ipython",
    "version": 3
   },
   "file_extension": ".py",
   "mimetype": "text/x-python",
   "name": "python",
   "nbconvert_exporter": "python",
   "pygments_lexer": "ipython3",
   "version": "3.9.7"
  },
  "orig_nbformat": 4,
  "vscode": {
   "interpreter": {
    "hash": "81794d4967e6c3204c66dcd87b604927b115b27c00565d3d43f05ba2f3a2cb0d"
   }
  }
 },
 "nbformat": 4,
 "nbformat_minor": 2
}
