{
 "cells": [
  {
   "cell_type": "code",
   "execution_count": 2,
   "metadata": {},
   "outputs": [],
   "source": [
    "a={'x':1, 'y':2}\n"
   ]
  },
  {
   "cell_type": "code",
   "execution_count": 13,
   "metadata": {},
   "outputs": [
    {
     "data": {
      "text/plain": [
       "(1.0, 2.8, 3.2, 13.0, 12.8, 32.6, [10, 3, 50, 0, 100])"
      ]
     },
     "execution_count": 13,
     "metadata": {},
     "output_type": "execute_result"
    }
   ],
   "source": [
    "def median(f):\n",
    "    # Creating buffer\n",
    "    if not hasattr(median, \"buffer\"):\n",
    "        median.buffer = [f] * 5\n",
    "\n",
    "    # Move buffer to actually values ( [0, 1, 2] -> [1, 2, 3] )\n",
    "    median.buffer = median.buffer[1:]\n",
    "    median.buffer.append(f)\n",
    "\n",
    "    # Calculation median\n",
    "    a = median.buffer[0]\n",
    "    b = median.buffer[1]\n",
    "    c = median.buffer[2]\n",
    "    # middle = max(a, c) if (max(a, b) == max(b, c)) else max(b, min(a, c))\n",
    "    middle = sum(median.buffer) / len(median.buffer)\n",
    "    return middle\n",
    "\n",
    "median(1), median(10), median(3), median(50), median(0) , median(100), median.buffer\n"
   ]
  },
  {
   "cell_type": "code",
   "execution_count": 54,
   "metadata": {},
   "outputs": [
    {
     "data": {
      "text/plain": [
       "array([ 45., 450., 450., 450., 450., 450., 450., 450., 450., 450.])"
      ]
     },
     "execution_count": 54,
     "metadata": {},
     "output_type": "execute_result"
    }
   ],
   "source": [
    "import numpy as np\n",
    "class Median:\n",
    "    def __init__(self, x, y, buffer_size =10):\n",
    "        self.buffer = np.array([[x]*buffer_size, [y]*buffer_size])\n",
    "    def __call__(self, x,y):\n",
    "        self.buffer = self.buffer[:,1:]\n",
    "        self.buffer = np.append(self.buffer, [[x],[y]], axis=1)\n",
    "\n",
    "        return sum(self.buffer) / len(self.buffer)\n",
    "        # return self.buffer\n",
    "a=Median(10, 20)\n",
    "a.buffer\n",
    "a(50, 40)\n",
    "a(500, 400)\n",
    "a(500, 400)\n",
    "a(500, 400)\n",
    "a(500, 400)\n",
    "a(500, 400)\n",
    "a(500, 400)\n",
    "a(500, 400)\n",
    "a(500, 400)\n",
    "a(500, 400)"
   ]
  },
  {
   "cell_type": "code",
   "execution_count": 60,
   "metadata": {},
   "outputs": [
    {
     "data": {
      "text/plain": [
       "3.3201169227365472"
      ]
     },
     "execution_count": 60,
     "metadata": {},
     "output_type": "execute_result"
    }
   ],
   "source": [
    "import math\n",
    "math.exp(1.2)"
   ]
  }
 ],
 "metadata": {
  "kernelspec": {
   "display_name": "Python 3",
   "language": "python",
   "name": "python3"
  },
  "language_info": {
   "codemirror_mode": {
    "name": "ipython",
    "version": 3
   },
   "file_extension": ".py",
   "mimetype": "text/x-python",
   "name": "python",
   "nbconvert_exporter": "python",
   "pygments_lexer": "ipython3",
   "version": "3.9.7"
  },
  "orig_nbformat": 4
 },
 "nbformat": 4,
 "nbformat_minor": 2
}
