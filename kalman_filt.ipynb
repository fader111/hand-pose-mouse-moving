{
 "cells": [
  {
   "cell_type": "code",
   "execution_count": null,
   "metadata": {},
   "outputs": [],
   "source": [
    "# examples https://www.programcreek.com/python/example/127786/filterpy.kalman.KalmanFilter"
   ]
  },
  {
   "cell_type": "code",
   "execution_count": null,
   "metadata": {},
   "outputs": [],
   "source": [
    "import os\n",
    "import time\n",
    "import math\n",
    "import keyboard\n",
    "import pyautogui\n",
    "import numpy as np\n",
    "\n",
    "from filterpy.kalman import KalmanFilter\n",
    "from filterpy.common import Q_discrete_white_noise"
   ]
  },
  {
   "cell_type": "code",
   "execution_count": null,
   "metadata": {},
   "outputs": [],
   "source": [
    "my_filter = KalmanFilter(dim_x=2, dim_z=1)\n",
    "\n",
    "my_filter.x = np.array([[2.],\n",
    "                [0.]])       # initial state (location and velocity)\n",
    "\n",
    "my_filter.F = np.array([[1.,1.],\n",
    "                [0.,1.]])    # state transition matrix\n",
    "\n",
    "my_filter.H = np.array([[1.,0.]])    # Measurement function\n",
    "my_filter.P *= 1000                 # covariance matrix\n",
    "my_filter.R = 5                      # state uncertainty\n",
    "# my_filter.Q = Q_discrete_white_noise(2, dt, .1) # process uncertainty dt??\n",
    "my_filter.Q = Q_discrete_white_noise(2, 0.1, .1) # process uncertainty"
   ]
  },
  {
   "cell_type": "code",
   "execution_count": null,
   "metadata": {},
   "outputs": [],
   "source": [
    "while True:\n",
    "    my_filter.predict()\n",
    "    my_filter.update(get_some_measurement())\n",
    "\n",
    "    # do something with the output\n",
    "    x = my_filter.x\n",
    "    do_something_amazing(x)"
   ]
  }
 ],
 "metadata": {
  "kernelspec": {
   "display_name": "Python 3.9.7 64-bit",
   "language": "python",
   "name": "python3"
  },
  "language_info": {
   "name": "python",
   "version": "3.9.7"
  },
  "orig_nbformat": 4,
  "vscode": {
   "interpreter": {
    "hash": "81794d4967e6c3204c66dcd87b604927b115b27c00565d3d43f05ba2f3a2cb0d"
   }
  }
 },
 "nbformat": 4,
 "nbformat_minor": 2
}
